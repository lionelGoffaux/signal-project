{
 "cells": [
  {
   "cell_type": "code",
   "execution_count": 1,
   "metadata": {},
   "outputs": [],
   "source": [
    "import utils\n",
    "import numpy as np\n",
    "import matplotlib.pyplot as plt\n",
    "import pandas as pd\n",
    "import seaborn as sns\n",
    "from sklearn.model_selection import train_test_split"
   ]
  },
  {
   "cell_type": "code",
   "execution_count": 2,
   "metadata": {},
   "outputs": [],
   "source": [
    "import warnings\n",
    "warnings.filterwarnings('ignore')"
   ]
  },
  {
   "cell_type": "code",
   "execution_count": 3,
   "metadata": {},
   "outputs": [],
   "source": [
    "df = utils.build_dataset(wav_number=120, random_sate=42)"
   ]
  },
  {
   "cell_type": "code",
   "execution_count": 4,
   "metadata": {},
   "outputs": [],
   "source": [
    "df = df.drop(['fs', 'duration'], axis=1)"
   ]
  },
  {
   "cell_type": "code",
   "execution_count": 5,
   "metadata": {},
   "outputs": [
    {
     "data": {
      "text/html": [
       "<div>\n",
       "<style scoped>\n",
       "    .dataframe tbody tr th:only-of-type {\n",
       "        vertical-align: middle;\n",
       "    }\n",
       "\n",
       "    .dataframe tbody tr th {\n",
       "        vertical-align: top;\n",
       "    }\n",
       "\n",
       "    .dataframe thead th {\n",
       "        text-align: right;\n",
       "    }\n",
       "</style>\n",
       "<table border=\"1\" class=\"dataframe\">\n",
       "  <thead>\n",
       "    <tr style=\"text-align: right;\">\n",
       "      <th></th>\n",
       "      <th>autocorr_pitch_mean</th>\n",
       "      <th>autocorr_pitch_median</th>\n",
       "      <th>cepstrum_pitch_mean</th>\n",
       "      <th>cepstrum_pitch_median</th>\n",
       "      <th>speaker</th>\n",
       "      <th>f1_mean</th>\n",
       "      <th>f2_mean</th>\n",
       "      <th>f3_mean</th>\n",
       "      <th>f4_mean</th>\n",
       "      <th>mfcc0</th>\n",
       "      <th>...</th>\n",
       "      <th>mfcc3</th>\n",
       "      <th>mfcc4</th>\n",
       "      <th>mfcc5</th>\n",
       "      <th>mfcc6</th>\n",
       "      <th>mfcc7</th>\n",
       "      <th>mfcc8</th>\n",
       "      <th>mfcc9</th>\n",
       "      <th>mfcc10</th>\n",
       "      <th>mfcc11</th>\n",
       "      <th>mfcc12</th>\n",
       "    </tr>\n",
       "  </thead>\n",
       "  <tbody>\n",
       "    <tr>\n",
       "      <th>0</th>\n",
       "      <td>1580.222953</td>\n",
       "      <td>695.652174</td>\n",
       "      <td>214.641293</td>\n",
       "      <td>131.147541</td>\n",
       "      <td>bdl</td>\n",
       "      <td>1097.482478</td>\n",
       "      <td>3198.967687</td>\n",
       "      <td>4477.776535</td>\n",
       "      <td>6436.852874</td>\n",
       "      <td>610.808756</td>\n",
       "      <td>...</td>\n",
       "      <td>21.779512</td>\n",
       "      <td>-32.578171</td>\n",
       "      <td>-15.014953</td>\n",
       "      <td>-6.202989</td>\n",
       "      <td>-21.003697</td>\n",
       "      <td>-7.244908</td>\n",
       "      <td>-0.203736</td>\n",
       "      <td>-12.523297</td>\n",
       "      <td>-0.473632</td>\n",
       "      <td>-11.763421</td>\n",
       "    </tr>\n",
       "    <tr>\n",
       "      <th>1</th>\n",
       "      <td>1772.818679</td>\n",
       "      <td>1036.437247</td>\n",
       "      <td>265.161116</td>\n",
       "      <td>227.356069</td>\n",
       "      <td>bdl</td>\n",
       "      <td>629.438144</td>\n",
       "      <td>2579.956547</td>\n",
       "      <td>4114.298743</td>\n",
       "      <td>5974.653043</td>\n",
       "      <td>600.383026</td>\n",
       "      <td>...</td>\n",
       "      <td>26.718886</td>\n",
       "      <td>-28.893639</td>\n",
       "      <td>-13.040578</td>\n",
       "      <td>-16.432016</td>\n",
       "      <td>-20.813124</td>\n",
       "      <td>-3.901365</td>\n",
       "      <td>-0.612144</td>\n",
       "      <td>-14.475592</td>\n",
       "      <td>-0.175175</td>\n",
       "      <td>-10.311353</td>\n",
       "    </tr>\n",
       "    <tr>\n",
       "      <th>2</th>\n",
       "      <td>830.571465</td>\n",
       "      <td>592.592593</td>\n",
       "      <td>247.241679</td>\n",
       "      <td>153.113553</td>\n",
       "      <td>bdl</td>\n",
       "      <td>992.440152</td>\n",
       "      <td>2905.558430</td>\n",
       "      <td>4295.941592</td>\n",
       "      <td>6385.485725</td>\n",
       "      <td>577.538648</td>\n",
       "      <td>...</td>\n",
       "      <td>0.816862</td>\n",
       "      <td>-34.579061</td>\n",
       "      <td>-9.794879</td>\n",
       "      <td>-9.894116</td>\n",
       "      <td>-27.833927</td>\n",
       "      <td>-6.488367</td>\n",
       "      <td>0.110944</td>\n",
       "      <td>-8.415316</td>\n",
       "      <td>-0.428991</td>\n",
       "      <td>-15.412495</td>\n",
       "    </tr>\n",
       "    <tr>\n",
       "      <th>3</th>\n",
       "      <td>1179.242166</td>\n",
       "      <td>666.666667</td>\n",
       "      <td>214.398199</td>\n",
       "      <td>141.592920</td>\n",
       "      <td>bdl</td>\n",
       "      <td>833.797317</td>\n",
       "      <td>2824.310119</td>\n",
       "      <td>4209.274668</td>\n",
       "      <td>6335.580671</td>\n",
       "      <td>592.429400</td>\n",
       "      <td>...</td>\n",
       "      <td>13.512553</td>\n",
       "      <td>-33.938694</td>\n",
       "      <td>-19.110918</td>\n",
       "      <td>-17.792059</td>\n",
       "      <td>-27.124091</td>\n",
       "      <td>-6.549721</td>\n",
       "      <td>-0.247915</td>\n",
       "      <td>-10.915315</td>\n",
       "      <td>4.494983</td>\n",
       "      <td>-15.241390</td>\n",
       "    </tr>\n",
       "    <tr>\n",
       "      <th>4</th>\n",
       "      <td>1089.054476</td>\n",
       "      <td>516.129032</td>\n",
       "      <td>226.119623</td>\n",
       "      <td>140.350877</td>\n",
       "      <td>bdl</td>\n",
       "      <td>876.398876</td>\n",
       "      <td>2940.903584</td>\n",
       "      <td>4213.075565</td>\n",
       "      <td>6460.088395</td>\n",
       "      <td>594.046052</td>\n",
       "      <td>...</td>\n",
       "      <td>29.190178</td>\n",
       "      <td>-31.327890</td>\n",
       "      <td>-25.885223</td>\n",
       "      <td>-5.424303</td>\n",
       "      <td>-26.480775</td>\n",
       "      <td>-1.831086</td>\n",
       "      <td>-4.513335</td>\n",
       "      <td>-5.408009</td>\n",
       "      <td>2.335526</td>\n",
       "      <td>-8.498360</td>\n",
       "    </tr>\n",
       "  </tbody>\n",
       "</table>\n",
       "<p>5 rows × 22 columns</p>\n",
       "</div>"
      ],
      "text/plain": [
       "   autocorr_pitch_mean  autocorr_pitch_median  cepstrum_pitch_mean  \\\n",
       "0          1580.222953             695.652174           214.641293   \n",
       "1          1772.818679            1036.437247           265.161116   \n",
       "2           830.571465             592.592593           247.241679   \n",
       "3          1179.242166             666.666667           214.398199   \n",
       "4          1089.054476             516.129032           226.119623   \n",
       "\n",
       "   cepstrum_pitch_median speaker      f1_mean      f2_mean      f3_mean  \\\n",
       "0             131.147541     bdl  1097.482478  3198.967687  4477.776535   \n",
       "1             227.356069     bdl   629.438144  2579.956547  4114.298743   \n",
       "2             153.113553     bdl   992.440152  2905.558430  4295.941592   \n",
       "3             141.592920     bdl   833.797317  2824.310119  4209.274668   \n",
       "4             140.350877     bdl   876.398876  2940.903584  4213.075565   \n",
       "\n",
       "       f4_mean       mfcc0  ...      mfcc3      mfcc4      mfcc5      mfcc6  \\\n",
       "0  6436.852874  610.808756  ...  21.779512 -32.578171 -15.014953  -6.202989   \n",
       "1  5974.653043  600.383026  ...  26.718886 -28.893639 -13.040578 -16.432016   \n",
       "2  6385.485725  577.538648  ...   0.816862 -34.579061  -9.794879  -9.894116   \n",
       "3  6335.580671  592.429400  ...  13.512553 -33.938694 -19.110918 -17.792059   \n",
       "4  6460.088395  594.046052  ...  29.190178 -31.327890 -25.885223  -5.424303   \n",
       "\n",
       "       mfcc7     mfcc8     mfcc9     mfcc10    mfcc11     mfcc12  \n",
       "0 -21.003697 -7.244908 -0.203736 -12.523297 -0.473632 -11.763421  \n",
       "1 -20.813124 -3.901365 -0.612144 -14.475592 -0.175175 -10.311353  \n",
       "2 -27.833927 -6.488367  0.110944  -8.415316 -0.428991 -15.412495  \n",
       "3 -27.124091 -6.549721 -0.247915 -10.915315  4.494983 -15.241390  \n",
       "4 -26.480775 -1.831086 -4.513335  -5.408009  2.335526  -8.498360  \n",
       "\n",
       "[5 rows x 22 columns]"
      ]
     },
     "execution_count": 5,
     "metadata": {},
     "output_type": "execute_result"
    }
   ],
   "source": [
    "df.head()"
   ]
  },
  {
   "cell_type": "code",
   "execution_count": 6,
   "metadata": {},
   "outputs": [],
   "source": [
    "train_set, test_set = train_test_split(df, test_size=0.2, random_state=42)"
   ]
  },
  {
   "cell_type": "code",
   "execution_count": 7,
   "metadata": {},
   "outputs": [
    {
     "data": {
      "text/plain": [
       "slt    96\n",
       "bdl    96\n",
       "Name: speaker, dtype: int64"
      ]
     },
     "execution_count": 7,
     "metadata": {},
     "output_type": "execute_result"
    }
   ],
   "source": [
    "train_set['speaker'].value_counts()"
   ]
  },
  {
   "cell_type": "code",
   "execution_count": 8,
   "metadata": {},
   "outputs": [
    {
     "data": {
      "text/plain": [
       "slt    24\n",
       "bdl    24\n",
       "Name: speaker, dtype: int64"
      ]
     },
     "execution_count": 8,
     "metadata": {},
     "output_type": "execute_result"
    }
   ],
   "source": [
    "test_set['speaker'].value_counts()"
   ]
  },
  {
   "cell_type": "code",
   "execution_count": 9,
   "metadata": {},
   "outputs": [],
   "source": [
    "def encode(data):\n",
    "    data = data.copy()\n",
    "    code = {'bdl': 0, 'slt':1}\n",
    "    data['speaker'] = data['speaker'].map(code)\n",
    "    \n",
    "    return data"
   ]
  },
  {
   "cell_type": "code",
   "execution_count": 10,
   "metadata": {
    "scrolled": true
   },
   "outputs": [],
   "source": [
    "def preprocessing(data):\n",
    "    data = data.copy()\n",
    "    data = encode(data)\n",
    "    \n",
    "    X = data.drop(['speaker'], axis=1)\n",
    "    y = data[['speaker']]\n",
    "    \n",
    "    return X, y"
   ]
  },
  {
   "cell_type": "code",
   "execution_count": 11,
   "metadata": {},
   "outputs": [],
   "source": [
    "X_train, y_train = preprocessing(train_set)\n",
    "X_test, y_test = preprocessing(test_set)"
   ]
  },
  {
   "cell_type": "code",
   "execution_count": 12,
   "metadata": {},
   "outputs": [],
   "source": [
    "from sklearn.tree import DecisionTreeClassifier\n",
    "from sklearn.metrics import f1_score, confusion_matrix, classification_report\n",
    "from sklearn.model_selection import learning_curve"
   ]
  },
  {
   "cell_type": "code",
   "execution_count": 13,
   "metadata": {},
   "outputs": [],
   "source": [
    "def evaluation(model):\n",
    "    model.fit(X_train, y_train)\n",
    "    ypred = model.predict(X_test)\n",
    "    \n",
    "    print(confusion_matrix(y_test, ypred))\n",
    "    print(classification_report(y_test, ypred))\n",
    "    \n",
    "    N, train_score, val_score = learning_curve(model, X_train, y_train, scoring='accuracy',\n",
    "                                               cv=4, train_sizes=np.linspace(0.1, 1, 10))\n",
    "    \n",
    "    plt.figure(figsize=(6, 4))\n",
    "    plt.plot(N, train_score.mean(axis=1), label='train_score')\n",
    "    plt.plot(N, val_score.mean(axis=1), label='val_score')\n",
    "    plt.legend()\n",
    "    plt.grid()\n",
    "    plt.margins(x=0)"
   ]
  },
  {
   "cell_type": "code",
   "execution_count": 14,
   "metadata": {},
   "outputs": [
    {
     "name": "stdout",
     "output_type": "stream",
     "text": [
      "[[24  0]\n",
      " [ 1 23]]\n",
      "              precision    recall  f1-score   support\n",
      "\n",
      "           0       0.96      1.00      0.98        24\n",
      "           1       1.00      0.96      0.98        24\n",
      "\n",
      "    accuracy                           0.98        48\n",
      "   macro avg       0.98      0.98      0.98        48\n",
      "weighted avg       0.98      0.98      0.98        48\n",
      "\n"
     ]
    },
    {
     "data": {
      "image/png": "[encoded data removed]",
      "text/plain": [
       "<Figure size 432x288 with 1 Axes>"
      ]
     },
     "metadata": {
      "needs_background": "light"
     },
     "output_type": "display_data"
    }
   ],
   "source": [
    "tree = DecisionTreeClassifier(random_state=42)\n",
    "evaluation(tree)"
   ]
  },
  {
   "cell_type": "code",
   "execution_count": 15,
   "metadata": {},
   "outputs": [
    {
     "data": {
      "text/plain": [
       "<AxesSubplot:>"
      ]
     },
     "execution_count": 15,
     "metadata": {},
     "output_type": "execute_result"
    },
    {
     "data": {
      "image/png": "[encoded data removed]",
      "text/plain": [
       "<Figure size 864x576 with 1 Axes>"
      ]
     },
     "metadata": {
      "needs_background": "light"
     },
     "output_type": "display_data"
    }
   ],
   "source": [
    "pd.DataFrame(tree.feature_importances_, index=X_train.columns).plot.bar(figsize=(12, 8))"
   ]
  },
  {
   "cell_type": "code",
   "execution_count": 16,
   "metadata": {},
   "outputs": [],
   "source": [
    "from sklearn.ensemble import RandomForestClassifier"
   ]
  },
  {
   "cell_type": "code",
   "execution_count": 17,
   "metadata": {},
   "outputs": [
    {
     "name": "stdout",
     "output_type": "stream",
     "text": [
      "[[24  0]\n",
      " [ 0 24]]\n",
      "              precision    recall  f1-score   support\n",
      "\n",
      "           0       1.00      1.00      1.00        24\n",
      "           1       1.00      1.00      1.00        24\n",
      "\n",
      "    accuracy                           1.00        48\n",
      "   macro avg       1.00      1.00      1.00        48\n",
      "weighted avg       1.00      1.00      1.00        48\n",
      "\n"
     ]
    },
    {
     "data": {
      "image/png": "[encoded data removed]",
      "text/plain": [
       "<Figure size 432x288 with 1 Axes>"
      ]
     },
     "metadata": {
      "needs_background": "light"
     },
     "output_type": "display_data"
    }
   ],
   "source": [
    "rforest = RandomForestClassifier(random_state=42)\n",
    "evaluation(rforest)"
   ]
  },
  {
   "cell_type": "code",
   "execution_count": 33,
   "metadata": {},
   "outputs": [
    {
     "data": {
      "text/plain": [
       "<AxesSubplot:>"
      ]
     },
     "execution_count": 33,
     "metadata": {},
     "output_type": "execute_result"
    },
    {
     "data": {
      "image/png": "[encoded data removed]",
      "text/plain": [
       "<Figure size 432x288 with 1 Axes>"
      ]
     },
     "metadata": {
      "needs_background": "light"
     },
     "output_type": "display_data"
    }
   ],
   "source": [
    "pd.DataFrame(rforest.feature_importances_, index=X_train.columns).plot.bar(figsize=(6, 4))"
   ]
  },
  {
   "cell_type": "code",
   "execution_count": null,
   "metadata": {},
   "outputs": [],
   "source": []
  },
  {
   "cell_type": "code",
   "execution_count": null,
   "metadata": {},
   "outputs": [],
   "source": []
  },
  {
   "cell_type": "code",
   "execution_count": null,
   "metadata": {},
   "outputs": [],
   "source": []
  },
  {
   "cell_type": "code",
   "execution_count": null,
   "metadata": {},
   "outputs": [],
   "source": []
  },
  {
   "cell_type": "code",
   "execution_count": null,
   "metadata": {},
   "outputs": [],
   "source": []
  },
  {
   "cell_type": "code",
   "execution_count": null,
   "metadata": {},
   "outputs": [],
   "source": []
  },
  {
   "cell_type": "code",
   "execution_count": null,
   "metadata": {},
   "outputs": [],
   "source": []
  },
  {
   "cell_type": "code",
   "execution_count": null,
   "metadata": {},
   "outputs": [],
   "source": []
  },
  {
   "cell_type": "code",
   "execution_count": null,
   "metadata": {},
   "outputs": [],
   "source": []
  },
  {
   "cell_type": "code",
   "execution_count": 20,
   "metadata": {},
   "outputs": [],
   "source": [
    "# man, woman = utils.pick_random_files(50, random_state=42)"
   ]
  },
  {
   "cell_type": "code",
   "execution_count": 21,
   "metadata": {
    "scrolled": false
   },
   "outputs": [],
   "source": [
    "# from scipy.io.wavfile import read\n",
    "\n",
    "# fs, signal = read('cmu_us_bdl_arctic/wav/arctic_a0001.wav')\n",
    "# formants = utils.formants(signal, 21, 10, fs)\n",
    "\n",
    "\n",
    "# formants"
   ]
  },
  {
   "cell_type": "code",
   "execution_count": 22,
   "metadata": {},
   "outputs": [],
   "source": [
    "# fs = []\n",
    "# duration = []\n",
    "# autocorr_pitch_mean = []\n",
    "# autocorr_pitch_median = []\n",
    "# cepstrum_pitch_mean = []\n",
    "# cepstrum_pitch_median= []\n",
    "# form = {}\n",
    "# mfcc = {}\n",
    "# # f_max = []\n",
    "# n_formants = []\n",
    "# speaker = []"
   ]
  },
  {
   "cell_type": "code",
   "execution_count": 23,
   "metadata": {},
   "outputs": [],
   "source": [
    "# width = 21\n",
    "# step = 10\n",
    "# threshold = 5\n",
    "# dn_formants = 4\n",
    "\n",
    "# for i in range(13):\n",
    "#         mfcc[f'mfcc{i}'] = []\n",
    "        \n",
    "# for i in range(dn_formants):\n",
    "#         form[f'f{i}'] = []\n",
    "\n",
    "# for sfs, signal in man:\n",
    "#     formants = utils.formants(signal, width, step, sfs)\n",
    "#     auto_pitch = utils.get_pitch(signal, width, step, sfs, threshold, methode=utils.autocorrelation, extend=False)\n",
    "#     smfcc = utils.mfcc(signal, width, step, sfs)\n",
    "#     cepstrum_pitch = utils.get_pitch(signal, width, step, sfs, threshold, methode=utils.cepstrum, extend=False)\n",
    "    \n",
    "#     for i in range(smfcc.shape[1]):\n",
    "#         mfcc[f'mfcc{i}'].append(smfcc[:,i].mean())\n",
    "        \n",
    "#     for i in range(dn_formants):\n",
    "#         form[f'f{i}'].append(formants[:,i].mean())\n",
    "    \n",
    "# #     for i, f in enumerate(formants[:dn_formants]):\n",
    "# #         form[f'f{i}'].append(f)\n",
    "    \n",
    "#     fs.append(sfs)\n",
    "#     duration.append(signal.size/sfs)\n",
    "    \n",
    "#     autocorr_pitch_mean.append(auto_pitch.mean())\n",
    "#     autocorr_pitch_median.append(np.median(auto_pitch))\n",
    "#     cepstrum_pitch_mean.append(cepstrum_pitch.mean())\n",
    "#     cepstrum_pitch_median.append(np.median(cepstrum_pitch))\n",
    "#     #f_max.append(formants[-1])\n",
    "#     n_formants.append(formants.size)\n",
    "#     speaker.append('bdl')\n",
    "    \n",
    "# for sfs, signal in woman:\n",
    "#     formants = utils.formants(signal, width, step, sfs)\n",
    "#     auto_pitch = utils.get_pitch(signal, width, step, sfs, threshold, methode=utils.autocorrelation, extend=False)\n",
    "#     smfcc = utils.mfcc(signal, width, step, sfs)\n",
    "#     cepstrum_pitch = utils.get_pitch(signal, width, step, sfs, threshold, methode=utils.cepstrum, extend=False)\n",
    "\n",
    "    \n",
    "#     for i in range(smfcc.shape[1]):\n",
    "#         mfcc[f'mfcc{i}'].append(smfcc[:,i].mean())\n",
    "        \n",
    "#     for i in range(dn_formants):\n",
    "#         form[f'f{i}'].append(formants[:,i].mean())\n",
    "    \n",
    "# #     for i, f in enumerate(formants[:dn_formants]):\n",
    "# #         form[f'f{i}'].append(f)\n",
    "    \n",
    "#     fs.append(sfs)\n",
    "#     duration.append(signal.size/sfs)\n",
    "#     autocorr_pitch_mean.append(auto_pitch.mean())\n",
    "#     autocorr_pitch_median.append(np.median(auto_pitch))\n",
    "#     cepstrum_pitch_mean.append(cepstrum_pitch.mean())\n",
    "#     cepstrum_pitch_median.append(np.median(cepstrum_pitch))\n",
    "# #     f_max.append(formants[-1])\n",
    "#     n_formants.append(formants.size)\n",
    "#     speaker.append('slt')"
   ]
  },
  {
   "cell_type": "code",
   "execution_count": 24,
   "metadata": {},
   "outputs": [],
   "source": [
    "# d = {'fs': fs, 'duration': duration, 'autocorr_pitch_mean': autocorr_pitch_mean, 'autocorr_pitch_median': autocorr_pitch_median,\n",
    "#      'cepstrum_pitch_mean': cepstrum_pitch_mean, 'cepstrum_pitch_median': cepstrum_pitch_median,\n",
    "#      'n_formants': n_formants, 'speaker': speaker}\n",
    "# d.update(mfcc)\n",
    "# d.update(form)\n",
    "# df = pd.DataFrame(data=d)"
   ]
  },
  {
   "cell_type": "code",
   "execution_count": 25,
   "metadata": {},
   "outputs": [],
   "source": [
    "# df"
   ]
  },
  {
   "cell_type": "code",
   "execution_count": 26,
   "metadata": {
    "scrolled": true
   },
   "outputs": [],
   "source": [
    "# for col in df.select_dtypes('float'):\n",
    "#     plt.figure()\n",
    "#     sns.distplot(df[col])"
   ]
  },
  {
   "cell_type": "code",
   "execution_count": 27,
   "metadata": {
    "scrolled": false
   },
   "outputs": [],
   "source": [
    "# bdl_df = df[df['speaker']=='bdl']\n",
    "# slt_df = df[df['speaker']=='slt']"
   ]
  },
  {
   "cell_type": "code",
   "execution_count": 28,
   "metadata": {
    "scrolled": false
   },
   "outputs": [],
   "source": [
    "# for col in df.select_dtypes('float'):\n",
    "#     plt.figure()\n",
    "#     sns.distplot(bdl_df[col], label='bdl')\n",
    "#     sns.distplot(slt_df[col], label='slt')\n",
    "#     plt.legend()"
   ]
  },
  {
   "cell_type": "code",
   "execution_count": 29,
   "metadata": {},
   "outputs": [],
   "source": [
    "# man, woman = utils.pick_random_files(300, random_state=68)\n",
    "\n",
    "# fs = []\n",
    "# duration = []\n",
    "# autocorr_pitch_mean = []\n",
    "# autocorr_pitch_median = []\n",
    "# cepstrum_pitch_mean = []\n",
    "# cepstrum_pitch_median= []\n",
    "# form = {}\n",
    "# mfcc = {}\n",
    "# f_max = []\n",
    "# n_formants = []\n",
    "# speaker = []\n",
    "\n",
    "\n",
    "# width = 21\n",
    "# step = 10\n",
    "# threshold = 5\n",
    "# dn_formants = 13\n",
    "\n",
    "# for i in range(13):\n",
    "#         mfcc[f'mfcc{i}'] = []\n",
    "        \n",
    "# for i in range(dn_formants):\n",
    "#         form[f'f{i}'] = []\n",
    "\n",
    "# for sfs, signal in man:\n",
    "#     formants = utils.formants(signal, width, step, sfs)\n",
    "#     auto_pitch = utils.get_pitch(signal, width, step, sfs, threshold, methode=utils.autocorrelation, extend=False)\n",
    "#     smfcc = utils.mfcc(signal, width, step, sfs)\n",
    "    \n",
    "#     for i in range(smfcc.shape[1]):\n",
    "#         mfcc[f'mfcc{i}'].append(smfcc[:,i].mean())\n",
    "    \n",
    "#     for i, f in enumerate(formants[:dn_formants]):\n",
    "#         form[f'f{i}'].append(f)\n",
    "    \n",
    "#     fs.append(sfs)\n",
    "#     duration.append(signal.size/sfs)\n",
    "#     cepstrum_pitch = utils.get_pitch(signal, width, step, sfs, threshold, methode=utils.cepstrum, extend=False)\n",
    "#     autocorr_pitch_mean.append(auto_pitch.mean())\n",
    "#     autocorr_pitch_median.append(np.median(auto_pitch))\n",
    "#     cepstrum_pitch_mean.append(cepstrum_pitch.mean())\n",
    "#     cepstrum_pitch_median.append(np.median(cepstrum_pitch))\n",
    "#     f_max.append(formants[-1])\n",
    "#     n_formants.append(formants.size)\n",
    "#     speaker.append('bdl')\n",
    "    \n",
    "# for sfs, signal in woman:\n",
    "#     formants = utils.formants(signal, width, step, sfs)\n",
    "#     auto_pitch = utils.get_pitch(signal, width, step, sfs, threshold, methode=utils.autocorrelation, extend=False)\n",
    "#     smfcc = utils.mfcc(signal, width, step, sfs)\n",
    "    \n",
    "#     for i in range(smfcc.shape[1]):\n",
    "#         mfcc[f'mfcc{i}'].append(smfcc[:,i].mean())\n",
    "    \n",
    "#     for i, f in enumerate(formants[:dn_formants]):\n",
    "#         form[f'f{i}'].append(f)\n",
    "    \n",
    "#     fs.append(sfs)\n",
    "#     duration.append(signal.size/sfs)\n",
    "#     cepstrum_pitch = utils.get_pitch(signal, width, step, sfs, threshold, methode=utils.cepstrum, extend=False)\n",
    "#     autocorr_pitch_mean.append(auto_pitch.mean())\n",
    "#     autocorr_pitch_median.append(np.median(auto_pitch))\n",
    "#     cepstrum_pitch_mean.append(cepstrum_pitch.mean())\n",
    "#     cepstrum_pitch_median.append(np.median(cepstrum_pitch))\n",
    "#     f_max.append(formants[-1])\n",
    "#     n_formants.append(formants.size)\n",
    "#     speaker.append('slt')\n",
    "    \n",
    "    \n",
    "# d = {'fs': fs, 'duration': duration, 'autocorr_pitch_mean': autocorr_pitch_mean, 'autocorr_pitch_median': autocorr_pitch_median,\n",
    "#      'cepstrum_pitch_mean': cepstrum_pitch_mean, 'cepstrum_pitch_median': cepstrum_pitch_median,\n",
    "#      'f_max': f_max, 'n_formants': n_formants, 'speaker': speaker}\n",
    "# d.update(mfcc)\n",
    "# d.update(form)\n",
    "# df_test = pd.DataFrame(data=d)"
   ]
  },
  {
   "cell_type": "code",
   "execution_count": 30,
   "metadata": {},
   "outputs": [],
   "source": [
    "# def rule_based_model(X):\n",
    "#     if X['mfcc7'] >= -12:\n",
    "#         return 'slt'\n",
    "#     else:\n",
    "#         return 'bdl'"
   ]
  },
  {
   "cell_type": "code",
   "execution_count": 31,
   "metadata": {},
   "outputs": [],
   "source": [
    "# df_test.head()\n",
    "# df_test_X = df_test.drop(['speaker'], axis=1)\n",
    "# df_test_y = df_test[['speaker']]\n",
    "\n",
    "# df_test_y['perdict'] = df_test_X.apply(rule_based_model, axis=1)\n",
    "# sns.heatmap(pd.crosstab(df_test_y['speaker'], df_test_y['perdict']), annot=True, fmt='d', cbar=False)"
   ]
  }
 ],
 "metadata": {
  "kernelspec": {
   "display_name": "Python 3",
   "language": "python",
   "name": "python3"
  },
  "language_info": {
   "codemirror_mode": {
    "name": "ipython",
    "version": 3
   },
   "file_extension": ".py",
   "mimetype": "text/x-python",
   "name": "python",
   "nbconvert_exporter": "python",
   "pygments_lexer": "ipython3",
   "version": "3.8.6"
  }
 },
 "nbformat": 4,
 "nbformat_minor": 4
}
