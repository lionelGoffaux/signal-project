{
 "cells": [
  {
   "cell_type": "code",
   "execution_count": 1,
   "metadata": {},
   "outputs": [],
   "source": [
    "import utils\n",
    "import numpy as np\n",
    "import matplotlib.pyplot as plt\n",
    "import scipy.signal as sgl\n",
    "from xcorr import xcorr\n",
    "from ipywidgets import widgets\n",
    "from IPython.display import Audio\n",
    "from scipy.io.wavfile import read\n",
    "from ipywidgets import interact"
   ]
  },
  {
   "cell_type": "code",
   "execution_count": 2,
   "metadata": {},
   "outputs": [],
   "source": [
    "def get_sinusoid(amp, freq, sample_freq, n_sample):\n",
    "    n = np.arange(0, n_sample)\n",
    "    return n/sample_freq, amp * np.sin(freq/sample_freq*2*np.pi*n)"
   ]
  },
  {
   "cell_type": "code",
   "execution_count": 3,
   "metadata": {},
   "outputs": [],
   "source": [
    "def get_timeAxis(fs, sin):\n",
    "    n = np.arange(len(sin))\n",
    "    return n/fs"
   ]
  },
  {
   "cell_type": "code",
   "execution_count": 4,
   "metadata": {},
   "outputs": [],
   "source": [
    "def niceplot():\n",
    "    plt.margins(x=0)\n",
    "    plt.grid()"
   ]
  },
  {
   "cell_type": "code",
   "execution_count": 5,
   "metadata": {},
   "outputs": [],
   "source": [
    "def autocorrelation(sig, width, step, fs):\n",
    "    step_len = int(fs*step/1000)\n",
    "    sig = utils.normalize(sig)\n",
    "    frames = utils.split(sig, width, step, fs)\n",
    "    pitch = []\n",
    "    energy = []\n",
    "\n",
    "    for f in frames:\n",
    "        lags, corr = xcorr(f, maxlag=fs//50)\n",
    "        distance = utils.get_distance(lags, corr)\n",
    "        pitch += [fs/distance if distance != -1 else -1]*step_len\n",
    "        energy += [utils.energy(f)]*step_len\n",
    "\n",
    "    return np.array(pitch), np.array(energy)"
   ]
  },
  {
   "cell_type": "code",
   "execution_count": 6,
   "metadata": {},
   "outputs": [],
   "source": [
    "fs, sentence = read('cmu_us_bdl_arctic/wav/arctic_a0001.wav')\n",
    "t = get_timeAxis(fs, sentence)"
   ]
  },
  {
   "cell_type": "code",
   "execution_count": 7,
   "metadata": {
    "scrolled": false
   },
   "outputs": [
    {
     "data": {
      "image/png": "[encoded data removed]",
      "text/plain": [
       "<Figure size 720x432 with 1 Axes>"
      ]
     },
     "metadata": {
      "needs_background": "light"
     },
     "output_type": "display_data"
    }
   ],
   "source": [
    "plt.figure(figsize=(10,6))\n",
    "plt.plot(t, sentence)\n",
    "niceplot()"
   ]
  },
  {
   "cell_type": "code",
   "execution_count": 8,
   "metadata": {},
   "outputs": [],
   "source": [
    "# def cepstrum(frame, fs, threshold):\n",
    "#     start = 32\n",
    "#     logSpectrum = np.log(abs(sgl.freqz(frame)[1]))\n",
    "#     ceps = abs(sgl.freqz(logSpectrum)[1])\n",
    "#     return fs/np.arange(len(ceps))[ceps==ceps[start:].max()][0]"
   ]
  },
  {
   "cell_type": "code",
   "execution_count": 9,
   "metadata": {},
   "outputs": [
    {
     "name": "stdout",
     "output_type": "stream",
     "text": [
      "440\n",
      "880\n",
      "1320\n",
      "1760\n",
      "2200\n",
      "2640\n",
      "3080\n",
      "3520\n"
     ]
    }
   ],
   "source": [
    "a = 9\n",
    "f = 440\n",
    "\n",
    "armo = np.arange(1, a)\n",
    "sinla = np.zeros(fs*2)\n",
    "\n",
    "for k in armo:\n",
    "    sinla += get_sinusoid(6000, k*f, fs, fs*2)[1]\n",
    "    print(k*f)\n",
    "\n",
    "sinla = utils.normalize(sinla)\n",
    "framela = utils.split(sinla, 21, 10, fs)[12]"
   ]
  },
  {
   "cell_type": "code",
   "execution_count": 10,
   "metadata": {},
   "outputs": [
    {
     "data": {
      "text/plain": [
       "array([-3527.47856714, -3013.0028552 , -2253.57811395, -1268.03799456,\n",
       "           0.        ,  1268.03799456,  2253.57811395,  3013.0028552 ,\n",
       "        3527.47856714])"
      ]
     },
     "execution_count": 10,
     "metadata": {},
     "output_type": "execute_result"
    }
   ],
   "source": [
    "res =utils.formants(sinla, 21, 2000, fs)\n",
    "res"
   ]
  },
  {
   "cell_type": "code",
   "execution_count": 11,
   "metadata": {},
   "outputs": [],
   "source": [
    "# start = (500/(fs)*5000)\n",
    "\n",
    "# plt.figure(figsize=(10,6))\n",
    "# plt.plot(cepstrum(framela, fs, 5)[:40])\n",
    "# plt.axvline(32)\n",
    "# niceplot()\n",
    "\n",
    "# fs/500\n",
    "# cepstrum(framela, fs, 5)"
   ]
  },
  {
   "cell_type": "code",
   "execution_count": 12,
   "metadata": {},
   "outputs": [],
   "source": [
    "# fs/36"
   ]
  },
  {
   "cell_type": "code",
   "execution_count": 13,
   "metadata": {},
   "outputs": [],
   "source": [
    "# utils.plot_energy(sentence, 21, 10, fs, 5)"
   ]
  },
  {
   "cell_type": "code",
   "execution_count": 14,
   "metadata": {},
   "outputs": [],
   "source": [
    "# utils.plot_pitch(sentence, 21, 15, fs, 5)"
   ]
  },
  {
   "cell_type": "code",
   "execution_count": 15,
   "metadata": {},
   "outputs": [],
   "source": [
    "# utils.plot_pitch(sentence, 21, 15, fs, 5, utils.cepstrum)"
   ]
  },
  {
   "cell_type": "code",
   "execution_count": 16,
   "metadata": {},
   "outputs": [],
   "source": [
    "# def get_pitch(frame, fs, threshold=5):\n",
    "#     lags, corr = xcorr(frame, maxlag=fs//50)\n",
    "#     distance = utils.get_distance(lags, corr)\n",
    "#     energy = utils.energy(frame)\n",
    "#     return fs/distance if energy >= threshold else 0"
   ]
  },
  {
   "cell_type": "code",
   "execution_count": 17,
   "metadata": {},
   "outputs": [],
   "source": [
    "# width = 21\n",
    "# step = 5\n",
    "# fs = fs\n",
    "# signal = sentence\n",
    "# threshold = 5\n",
    "\n",
    "# step_len = int(fs*step/1000)\n",
    "# t = get_timeAxis(fs, signal)\n",
    "# frames = utils.split(utils.normalize(signal), width, step, fs)\n",
    "# pitch = []\n",
    "\n",
    "# for f in frames:\n",
    "#     pitch += [get_pitch(f, fs)]*step_len\n",
    "\n",
    "# fig, ax = plt.subplots(2, 1, figsize=(10,12))\n",
    "\n",
    "# ax[0].plot(t, signal)\n",
    "# ax[0].set_title('Signal')\n",
    "# ax[0].set_ylabel('Amplitude (V)')\n",
    "# ax[0].set_xlabel('Time (s)')\n",
    "# ax[0].grid()\n",
    "# ax[0].margins(x=0)\n",
    "\n",
    "# ax[1].plot(t[:len(pitch)], pitch)\n",
    "# # ax[1].axhline(threshold, c='r', label='threshold')\n",
    "# ax[1].set_title('Pitch')\n",
    "# ax[1].set_ylabel('Pitch (Hz)')\n",
    "# ax[1].set_xlabel('Time (s)')\n",
    "# ax[1].grid()\n",
    "# ax[1].margins(x=0)"
   ]
  },
  {
   "cell_type": "code",
   "execution_count": 18,
   "metadata": {
    "scrolled": false
   },
   "outputs": [],
   "source": [
    "# width = 21\n",
    "# step = 5\n",
    "# fs = fs\n",
    "# signal = sentence\n",
    "# threshold = 5\n",
    "\n",
    "# step_len = int(fs*step/1000)\n",
    "# t = get_timeAxis(fs, signal)\n",
    "# frames = utils.split(utils.normalize(signal), width, step, fs)\n",
    "# energy = []\n",
    "\n",
    "# for f in frames:\n",
    "#     energy += [utils.energy(f)]*step_len\n",
    "\n",
    "# fig, ax = plt.subplots(2, 1, figsize=(10,12))\n",
    "\n",
    "# ax[0].plot(t, signal)\n",
    "# ax[0].set_title('Signal')\n",
    "# ax[0].set_ylabel('Amplitude (V)')\n",
    "# ax[0].set_xlabel('Time (s)')\n",
    "# ax[0].grid()\n",
    "# ax[0].margins(x=0)\n",
    "\n",
    "# ax[1].plot(t[:len(energy)], energy, label='energy')\n",
    "# ax[1].axhline(threshold, c='r', label='threshold')\n",
    "# ax[1].set_title('Energy')\n",
    "# ax[1].set_ylabel('Energy')\n",
    "# ax[1].set_xlabel('Time (s)')\n",
    "# ax[1].legend()\n",
    "# ax[1].grid()\n",
    "# ax[1].margins(x=0)"
   ]
  },
  {
   "cell_type": "code",
   "execution_count": 19,
   "metadata": {},
   "outputs": [],
   "source": [
    "# pitch, energy = autocorrelation(sentence, 21, 5, fs)\n",
    "\n",
    "# # plt.figure(figsize=(10,6))\n",
    "# # plt.plot(pitch)\n",
    "# # niceplot()\n",
    "\n",
    "# plt.figure(figsize=(10,6))\n",
    "# plt.plot(energy)\n",
    "# niceplot()\n",
    "\n",
    "# plt.figure(figsize=(10,6))\n",
    "# plt.plot(t, utils.normalize(sentence))\n",
    "# niceplot()"
   ]
  },
  {
   "cell_type": "code",
   "execution_count": 20,
   "metadata": {},
   "outputs": [],
   "source": [
    "# def test_threshold(t):\n",
    "#     freq = [f if e >= t else 0 for f,e in zip(pitch, energy)]\n",
    "    \n",
    "#     plt.figure(figsize=(10,6))\n",
    "#     plt.axhline(t)\n",
    "#     plt.plot(energy)\n",
    "#     niceplot()\n",
    "\n",
    "#     plt.figure(figsize=(10,6))\n",
    "#     plt.plot(freq)\n",
    "#     niceplot()\n",
    "    \n",
    "    \n",
    "# interact(test_threshold, t=(0, 50, 0.5), continuous_update=False)"
   ]
  },
  {
   "cell_type": "code",
   "execution_count": 21,
   "metadata": {},
   "outputs": [
    {
     "data": {
      "text/plain": [
       "2"
      ]
     },
     "execution_count": 21,
     "metadata": {},
     "output_type": "execute_result"
    }
   ],
   "source": [
    "utils.get_distance(range(5), [0, 1, 0, 1, 0])"
   ]
  }
 ],
 "metadata": {
  "kernelspec": {
   "display_name": "Python 3",
   "language": "python",
   "name": "python3"
  },
  "language_info": {
   "codemirror_mode": {
    "name": "ipython",
    "version": 3
   },
   "file_extension": ".py",
   "mimetype": "text/x-python",
   "name": "python",
   "nbconvert_exporter": "python",
   "pygments_lexer": "ipython3",
   "version": "3.8.6"
  }
 },
 "nbformat": 4,
 "nbformat_minor": 4
}
